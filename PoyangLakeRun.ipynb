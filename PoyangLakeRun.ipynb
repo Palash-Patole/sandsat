{
 "cells": [
  {
   "cell_type": "markdown",
   "metadata": {},
   "source": [
    "# Poyang Lake Study Area"
   ]
  },
  {
   "cell_type": "code",
   "execution_count": 1,
   "metadata": {},
   "outputs": [],
   "source": [
    "# load modules\n",
    "import os\n",
    "import numpy as np\n",
    "import pickle\n",
    "import warnings\n",
    "import geopandas as gpd\n",
    "warnings.filterwarnings(\"ignore\")\n",
    "import matplotlib.pyplot as plt\n",
    "from coastsat import SDS_download, SDS_preprocess, SDS_shoreline, SDS_tools, SDS_transects\n"
   ]
  },
  {
   "cell_type": "code",
   "execution_count": 2,
   "metadata": {},
   "outputs": [
    {
     "name": "stdout",
     "output_type": "stream",
     "text": [
      "[[[116.1096442706144, 29.22680704226312], [116.1110162724817, 29.2109306394173], [116.1748499964451, 29.21393728784619], [116.1736960079658, 29.21975529322346], [116.1529766222694, 29.22375921247242], [116.1382100346204, 29.22595484190937], [116.1276922178228, 29.22743855292531], [116.1096442706144, 29.22680704226312]]]\n"
     ]
    }
   ],
   "source": [
    "# region of interest (longitude, latitude in WGS84)\n",
    "# can also be loaded from a .kml polygon\n",
    "# kml_polygon = os.path.join(os.getcwd(), 'examples', 'PoyangLakeRiverMouth.kml')\n",
    "# polygon = SDS_tools.polygon_from_kml(kml_polygon)\n",
    "\n",
    "aoi_poly = gpd.read_file(\"area_crop2.geojson\")\n",
    "g = [i for i in aoi_poly.geometry]\n",
    "x,y = g[0].exterior.coords.xy\n",
    "coords = np.dstack((x,y)).tolist()\n",
    "polygon = coords \n",
    "print(polygon)\n",
    "\n",
    "# date range\n",
    "dates = ['1985-01-01', '1985-08-01']\n",
    "\n",
    "# satellite missions\n",
    "sat_list = ['L5', 'L7', 'L8','S2']\n",
    "\n",
    "# name of the site\n",
    "sitename = 'POYANG2'\n",
    "\n",
    "# filepath where data will be stored\n",
    "filepath_data = os.path.join(os.getcwd(), 'data')\n",
    "\n",
    "# put all the inputs into a dictionnary\n",
    "inputs = {\n",
    "    'polygon': polygon,\n",
    "    'dates': dates,\n",
    "    'sat_list': sat_list,\n",
    "    'sitename': sitename,\n",
    "    'filepath': filepath_data\n",
    "        }\n"
   ]
  },
  {
   "cell_type": "code",
   "execution_count": 3,
   "metadata": {},
   "outputs": [
    {
     "name": "stdout",
     "output_type": "stream",
     "text": [
      "You have downloaded files in the your directory! Let's reuse them!\n"
     ]
    }
   ],
   "source": [
    "## Check if the path exists or not\n",
    "path_to_check   = os.path.join(filepath_data, sitename)\n",
    "\n",
    "if os.path.exists(path_to_check) == False: \n",
    "    # before downloading the images, check how many images are available for your inputs\n",
    "    SDS_download.check_images_available(inputs);\n",
    "\n",
    "    #%% 2. Retrieve images\n",
    "\n",
    "    # only uncomment this line if you want Landsat Tier 2 images (not suitable for time-series analysis)\n",
    "    # inputs['include_T2'] = True\n",
    "\n",
    "    # retrieve satellite images from GEE    \n",
    "    metadata = SDS_download.retrieve_images(inputs)\n",
    "else:\n",
    "    print(\"You have downloaded files in the your directory! Let's reuse them!\") \n",
    "    pass "
   ]
  },
  {
   "cell_type": "code",
   "execution_count": 4,
   "metadata": {},
   "outputs": [],
   "source": [
    "metadata = SDS_download.get_metadata(inputs) "
   ]
  },
  {
   "cell_type": "code",
   "execution_count": 5,
   "metadata": {},
   "outputs": [],
   "source": [
    "settings = { \n",
    "    # Temp flag for dirty hack \n",
    "    'dirty_hack_flag': True,\n",
    "    # general parameters:\n",
    "    'cloud_thresh': 0.5,        # threshold on maximum cloud cover\n",
    "    'output_epsg': 32650,       # epsg code of spatial reference system desired for the output   \n",
    "    # quality control:\n",
    "    'check_detection': False,    # if True, shows each shoreline detection to the user for validation\n",
    "    'save_figure': True,        # if True, saves a figure showing the mapped shoreline for each image\n",
    "    'color_style': False,       # if True, saves figure as true color image. If False, saves figure as false color image. \n",
    "    # add the inputs defined previously\n",
    "    'inputs': inputs,\n",
    "    # [ONLY FOR ADVANCED USERS] shoreline detection parameters:\n",
    "    'min_beach_area': 9000,     # minimum area (in metres^2) for an object to be labelled as a beach\n",
    "    'buffer_size': 150,         # radius (in metres) of the buffer around sandy pixels considered in the shoreline detection\n",
    "    'min_length_sl': 200,       # minimum length (in metres) of shoreline perimeter to be valid\n",
    "    'cloud_mask_issue': False,  # switch this parameter to True if sand pixels are masked (in black) on many images  \n",
    "    'sand_color': 'default',    # 'default', 'dark' (for grey/black sand beaches) or 'bright' (for white sand beaches)\n",
    "}"
   ]
  },
  {
   "cell_type": "code",
   "execution_count": 6,
   "metadata": {},
   "outputs": [],
   "source": [
    "# save jpeg of processed satellite image\n",
    "#SDS_preprocess.save_jpg(metadata, settings)"
   ]
  },
  {
   "cell_type": "code",
   "execution_count": 7,
   "metadata": {},
   "outputs": [
    {
     "data": {
      "text/plain": [
       "'poy = gpd.read_file(\"poyang_refline1.geojson\")\\ng = [i for i in poy.geometry]\\nx,y = g[0].coords.xy\\ncoords1 = np.dstack((x,y))[0]\\n\\npoy = gpd.read_file(\"poyang_refline2.geojson\")\\ng = [i for i in poy.geometry]\\nx,y = g[0].coords.xy\\ncoords2 = np.dstack((x,y))[0]\\n\\nprint(coords1)\\nprint(coords2)'"
      ]
     },
     "execution_count": 7,
     "metadata": {},
     "output_type": "execute_result"
    }
   ],
   "source": [
    "\"\"\"poy = gpd.read_file(\"poyang_refline1.geojson\")\n",
    "g = [i for i in poy.geometry]\n",
    "x,y = g[0].coords.xy\n",
    "coords1 = np.dstack((x,y))[0]\n",
    "\n",
    "poy = gpd.read_file(\"poyang_refline2.geojson\")\n",
    "g = [i for i in poy.geometry]\n",
    "x,y = g[0].coords.xy\n",
    "coords2 = np.dstack((x,y))[0]\n",
    "\n",
    "print(coords1)\n",
    "print(coords2)\"\"\" "
   ]
  },
  {
   "cell_type": "code",
   "execution_count": 8,
   "metadata": {},
   "outputs": [
    {
     "data": {
      "text/plain": [
       "'if \\'coords2\\' in globals():\\n    print(\"Using dual reference\")\\n    refs = np.append(coords1, coords2, axis = 0)\\nelif \\'coords2\\' in locals():\\n    print(\"Using dual reference\")\\n    refs = np.append(coords1, coords2, axis = 0)\\nelse:\\n    print(\"using single reference\")\\n    refs = coords1\\nprint(refs)'"
      ]
     },
     "execution_count": 8,
     "metadata": {},
     "output_type": "execute_result"
    }
   ],
   "source": [
    "'''if 'coords2' in globals():\n",
    "    print(\"Using dual reference\")\n",
    "    refs = np.append(coords1, coords2, axis = 0)\n",
    "elif 'coords2' in locals():\n",
    "    print(\"Using dual reference\")\n",
    "    refs = np.append(coords1, coords2, axis = 0)\n",
    "else:\n",
    "    print(\"using single reference\")\n",
    "    refs = coords1\n",
    "print(refs)'''\n"
   ]
  },
  {
   "cell_type": "code",
   "execution_count": 9,
   "metadata": {},
   "outputs": [
    {
     "data": {
      "text/plain": [
       "'with open(\"data/POYANG2/POYANG2_reference_shoreline.pkl\", \"wb\") as f:\\n    pickle.dump(refs, f)'"
      ]
     },
     "execution_count": 9,
     "metadata": {},
     "output_type": "execute_result"
    }
   ],
   "source": [
    "\"\"\"with open(\"data/POYANG2/POYANG2_reference_shoreline.pkl\", \"wb\") as f:\n",
    "    pickle.dump(refs, f)\"\"\""
   ]
  },
  {
   "cell_type": "code",
   "execution_count": 10,
   "metadata": {},
   "outputs": [
    {
     "name": "stdout",
     "output_type": "stream",
     "text": [
      "Reference shoreline already exists and was loaded\n"
     ]
    }
   ],
   "source": [
    "%matplotlib qt\n",
    "settings['reference_shoreline'] = SDS_preprocess.get_reference_sl(metadata, settings)\n",
    "settings['max_dist_ref'] = 1000 # max distance (in meters) allowed from the reference shoreline"
   ]
  },
  {
   "cell_type": "code",
   "execution_count": null,
   "metadata": {},
   "outputs": [
    {
     "name": "stdout",
     "output_type": "stream",
     "text": [
      "Mapping shorelines:\n",
      "L5:   0%I am doing the dirty hack!\n",
      "Could not map shoreline for this image: 1986-11-28-02-02-38_L5_POYANG2.tif\n",
      "L5:   1%I am doing the dirty hack!\n",
      "L5:   2%I am doing the dirty hack!\n",
      "Could not map shoreline for this image: 1987-05-23-02-08-21_L5_POYANG2.tif\n",
      "L5:   2%I am doing the dirty hack!\n",
      "Could not map shoreline for this image: 1987-06-24-02-09-06_L5_POYANG2.tif\n",
      "L5:   3%I am doing the dirty hack!\n",
      "L5:   4%I am doing the dirty hack!\n",
      "L5:   4%I am doing the dirty hack!\n",
      "L5:   5%I am doing the dirty hack!\n",
      "L5:   5%I am doing the dirty hack!\n",
      "Could not map shoreline for this image: 1988-06-26-02-14-58_L5_POYANG2.tif\n",
      "L5:   6%I am doing the dirty hack!\n",
      "Could not map shoreline for this image: 1988-07-28-02-15-04_L5_POYANG2.tif\n",
      "L5:   6%I am doing the dirty hack!\n",
      "L5:   6%I am doing the dirty hack!\n",
      "L5:   7%I am doing the dirty hack!\n",
      "L5:   7%I am doing the dirty hack!\n",
      "L5:   7%I am doing the dirty hack!\n",
      "L5:   8%I am doing the dirty hack!\n",
      "Could not map shoreline for this image: 1989-06-13-02-12-18_L5_POYANG2.tif\n",
      "L5:   9%I am doing the dirty hack!\n",
      "L5:   9%I am doing the dirty hack!\n",
      "L5:   9%I am doing the dirty hack!\n",
      "L5:   10%I am doing the dirty hack!\n",
      "L5:   10%I am doing the dirty hack!\n",
      "L5:   11%I am doing the dirty hack!\n",
      "Could not map shoreline for this image: 1990-08-19-02-04-17_L5_POYANG2.tif\n",
      "L5:   13%I am doing the dirty hack!\n",
      "L5:   13%I am doing the dirty hack!\n",
      "Could not map shoreline for this image: 1991-09-23-02-08-17_L5_POYANG2.tif\n",
      "L5:   14%I am doing the dirty hack!\n",
      "L5:   14%I am doing the dirty hack!\n",
      "L5:   14%I am doing the dirty hack!\n",
      "Could not map shoreline for this image: 1991-11-10-02-08-32_L5_POYANG2.tif\n",
      "L5:   15%I am doing the dirty hack!\n",
      "L5:   16%I am doing the dirty hack!\n",
      "Could not map shoreline for this image: 1992-05-04-02-08-08_L5_POYANG2.tif\n",
      "L5:   16%I am doing the dirty hack!\n",
      "L5:   16%I am doing the dirty hack!\n",
      "L5:   17%I am doing the dirty hack!\n",
      "L5:   17%I am doing the dirty hack!\n",
      "Could not map shoreline for this image: 1992-09-25-02-06-14_L5_POYANG2.tif\n",
      "L5:   17%I am doing the dirty hack!\n",
      "Could not map shoreline for this image: 1992-10-11-02-05-51_L5_POYANG2.tif\n",
      "L5:   17%I am doing the dirty hack!\n",
      "L5:   18%I am doing the dirty hack!\n",
      "L5:   18%I am doing the dirty hack!\n",
      "L5:   18%I am doing the dirty hack!\n",
      "Could not map shoreline for this image: 1993-02-16-02-06-17_L5_POYANG2.tif\n",
      "L5:   19%I am doing the dirty hack!\n",
      "L5:   19%I am doing the dirty hack!\n",
      "Could not map shoreline for this image: 1993-05-07-02-06-47_L5_POYANG2.tif\n",
      "L5:   19%I am doing the dirty hack!\n",
      "Could not map shoreline for this image: 1993-06-08-02-06-53_L5_POYANG2.tif\n",
      "L5:   19%I am doing the dirty hack!\n",
      "L5:   21%I am doing the dirty hack!\n",
      "L5:   21%I am doing the dirty hack!\n",
      "L5:   22%I am doing the dirty hack!\n",
      "L5:   23%I am doing the dirty hack!\n",
      "L5:   23%I am doing the dirty hack!\n",
      "L5:   24%I am doing the dirty hack!\n",
      "L5:   24%I am doing the dirty hack!\n",
      "L5:   25%I am doing the dirty hack!\n",
      "L5:   25%I am doing the dirty hack!\n",
      "Could not map shoreline for this image: 1995-09-18-01-46-09_L5_POYANG2.tif\n",
      "L5:   25%I am doing the dirty hack!\n",
      "Could not map shoreline for this image: 1995-10-20-01-44-27_L5_POYANG2.tif\n",
      "L5:   25%I am doing the dirty hack!\n",
      "L5:   26%I am doing the dirty hack!\n",
      "L5:   27%I am doing the dirty hack!\n",
      "L5:   28%I am doing the dirty hack!\n",
      "Could not map shoreline for this image: 1996-08-10-02-06-16_L5_POYANG2.tif\n",
      "L5:   28%I am doing the dirty hack!\n",
      "Could not map shoreline for this image: 1996-08-26-02-07-07_L5_POYANG2.tif\n",
      "L5:   29%I am doing the dirty hack!\n",
      "L5:   29%I am doing the dirty hack!\n",
      "Could not map shoreline for this image: 1996-09-11-02-08-01_L5_POYANG2.tif\n",
      "L5:   30%I am doing the dirty hack!\n",
      "L5:   30%I am doing the dirty hack!\n",
      "Could not map shoreline for this image: 1996-11-14-02-11-16_L5_POYANG2.tif\n",
      "L5:   31%I am doing the dirty hack!\n",
      "L5:   31%I am doing the dirty hack!\n",
      "L5:   31%I am doing the dirty hack!\n",
      "Could not map shoreline for this image: 1996-12-25-02-07-01_L5_POYANG2.tif\n",
      "L5:   32%I am doing the dirty hack!\n",
      "Could not map shoreline for this image: 1997-01-10-02-07-47_L5_POYANG2.tif\n",
      "L5:   32%I am doing the dirty hack!\n",
      "L5:   33%I am doing the dirty hack!\n",
      "L5:   35%I am doing the dirty hack!\n",
      "L5:   36%I am doing the dirty hack!\n",
      "Could not map shoreline for this image: 1997-11-10-02-18-16_L5_POYANG2.tif\n",
      "L5:   37%I am doing the dirty hack!\n",
      "L5:   37%I am doing the dirty hack!\n",
      "Could not map shoreline for this image: 1998-04-19-02-21-22_L5_POYANG2.tif\n",
      "L5:   38%I am doing the dirty hack!\n",
      "L5:   38%I am doing the dirty hack!\n",
      "L5:   40%I am doing the dirty hack!\n",
      "L5:   41%I am doing the dirty hack!\n",
      "Could not map shoreline for this image: 1999-04-06-02-23-02_L5_POYANG2.tif\n",
      "L5:   42%I am doing the dirty hack!\n",
      "Could not map shoreline for this image: 1999-08-28-02-21-40_L5_POYANG2.tif\n",
      "L5:   42%I am doing the dirty hack!\n",
      "Could not map shoreline for this image: 1999-09-13-02-21-08_L5_POYANG2.tif\n",
      "L5:   42%I am doing the dirty hack!\n",
      "L5:   42%I am doing the dirty hack!\n",
      "L5:   43%I am doing the dirty hack!\n",
      "L5:   43%I am doing the dirty hack!\n",
      "Could not map shoreline for this image: 1999-12-18-02-19-28_L5_POYANG2.tif\n",
      "L5:   44%I am doing the dirty hack!\n",
      "L5:   44%I am doing the dirty hack!\n",
      "Could not map shoreline for this image: 2000-06-27-02-20-59_L5_POYANG2.tif\n",
      "L5:   45%I am doing the dirty hack!\n",
      "Could not map shoreline for this image: 2000-07-13-02-21-19_L5_POYANG2.tif\n",
      "L5:   45%I am doing the dirty hack!\n",
      "Could not map shoreline for this image: 2000-08-30-02-22-17_L5_POYANG2.tif\n",
      "L5:   45%I am doing the dirty hack!\n",
      "L5:   46%I am doing the dirty hack!\n",
      "Could not map shoreline for this image: 2000-10-01-02-22-47_L5_POYANG2.tif\n",
      "L5:   46%I am doing the dirty hack!\n",
      "L5:   47%I am doing the dirty hack!\n",
      "L5:   47%I am doing the dirty hack!\n",
      "Could not map shoreline for this image: 2001-06-14-02-24-41_L5_POYANG2.tif\n",
      "L5:   48%I am doing the dirty hack!\n",
      "L5:   48%I am doing the dirty hack!\n",
      "Could not map shoreline for this image: 2001-07-16-02-24-44_L5_POYANG2.tif\n",
      "L5:   48%I am doing the dirty hack!\n",
      "Could not map shoreline for this image: 2001-09-02-02-24-31_L5_POYANG2.tif\n",
      "L5:   49%I am doing the dirty hack!\n",
      "L5:   49%I am doing the dirty hack!\n",
      "L5:   49%I am doing the dirty hack!\n",
      "L5:   50%I am doing the dirty hack!\n",
      "L5:   50%I am doing the dirty hack!\n",
      "L5:   51%I am doing the dirty hack!\n",
      "Could not map shoreline for this image: 2002-07-03-02-20-08_L5_POYANG2.tif\n",
      "L5:   51%I am doing the dirty hack!\n",
      "L5:   51%I am doing the dirty hack!\n",
      "L5:   52%I am doing the dirty hack!\n",
      "L5:   52%I am doing the dirty hack!\n",
      "Could not map shoreline for this image: 2002-11-08-02-16-34_L5_POYANG2.tif\n",
      "L5:   52%I am doing the dirty hack!\n",
      "Could not map shoreline for this image: 2002-11-24-02-16-02_L5_POYANG2.tif\n",
      "L5:   55%I am doing the dirty hack!\n",
      "L5:   56%I am doing the dirty hack!\n",
      "Could not map shoreline for this image: 2003-08-07-02-21-10_L5_POYANG2.tif\n",
      "L5:   56%I am doing the dirty hack!\n",
      "L5:   57%I am doing the dirty hack!\n",
      "L5:   57%I am doing the dirty hack!\n",
      "L5:   57%I am doing the dirty hack!\n",
      "Could not map shoreline for this image: 2003-10-26-02-22-22_L5_POYANG2.tif\n",
      "L5:   59%I am doing the dirty hack!\n",
      "Could not map shoreline for this image: 2004-02-15-02-23-15_L5_POYANG2.tif\n",
      "L5:   60%I am doing the dirty hack!\n",
      "L5:   60%I am doing the dirty hack!\n",
      "L5:   61%I am doing the dirty hack!\n",
      "L5:   61%I am doing the dirty hack!\n",
      "L5:   62%I am doing the dirty hack!\n",
      "L5:   62%I am doing the dirty hack!\n",
      "Could not map shoreline for this image: 2004-07-08-02-26-27_L5_POYANG2.tif\n",
      "L5:   63%I am doing the dirty hack!\n",
      "Could not map shoreline for this image: 2004-08-09-02-27-10_L5_POYANG2.tif\n",
      "L5:   63%"
     ]
    }
   ],
   "source": [
    "#moment of truth\n",
    "%matplotlib qt\n",
    "output = SDS_shoreline.extract_shorelines(metadata, settings)"
   ]
  },
  {
   "cell_type": "code",
   "execution_count": null,
   "metadata": {},
   "outputs": [],
   "source": [
    "fig = plt.figure()\n",
    "plt.axis('equal')\n",
    "plt.xlabel('Eastings')\n",
    "plt.ylabel('Northings')\n",
    "plt.grid(linestyle=':', color='0.5')\n",
    "for i in range(len(output['shorelines'])):\n",
    "    sl = output['shorelines'][i]\n",
    "    date = output['dates'][i]\n",
    "    plt.plot(sl[:,0], sl[:,1], '.', label=date.strftime('%d-%m-%Y'))\n",
    "plt.legend()\n",
    "mng = plt.get_current_fig_manager()                                         \n",
    "mng.window.showMaximized()    \n",
    "fig.set_size_inches([15.76,  8.52])"
   ]
  },
  {
   "cell_type": "code",
   "execution_count": null,
   "metadata": {},
   "outputs": [],
   "source": [
    "%matplotlib qt\n",
    "transects = SDS_transects.draw_transects(output, settings)"
   ]
  }
 ],
 "metadata": {
  "kernelspec": {
   "display_name": "Python 3",
   "language": "python",
   "name": "python3"
  },
  "language_info": {
   "codemirror_mode": {
    "name": "ipython",
    "version": 3
   },
   "file_extension": ".py",
   "mimetype": "text/x-python",
   "name": "python",
   "nbconvert_exporter": "python",
   "pygments_lexer": "ipython3",
   "version": "3.7.7"
  }
 },
 "nbformat": 4,
 "nbformat_minor": 4
}
